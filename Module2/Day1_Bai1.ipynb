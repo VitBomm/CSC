{
 "cells": [
  {
   "cell_type": "markdown",
   "metadata": {},
   "source": [
    "1. [https://vnexpress.net/](https://vnexpress.net/)\n",
    "2. [http://zing.vn/](http://zing.vn/)\n"
   ]
  },
  {
   "cell_type": "markdown",
   "metadata": {},
   "source": [
    "# Steven Paul Jobs (February 24, 1955 – October 5, 2011)\n",
    "![Image](https://upload.wikimedia.org/wikipedia/commons/thumb/f/f5/Steve_Jobs_Headshot_2010-CROP2.jpg/375px-Steve_Jobs_Headshot_2010-CROP2.jpg)\n",
    "[Visit Steven Paul Jobs Wikipedia](https://en.wikipedia.org/wiki/Steve_Jobs)\n",
    "* Born: Steven Paul Jobs was born on February 24, 1955, to Abdulfattah Jandali and Joanne Schieble."
   ]
  },
  {
   "cell_type": "markdown",
   "metadata": {},
   "source": [
    "| STT | Tên Khóa Học | Thời lượng |\n",
    "| :---: | :---: | :---: |\n",
    "| 1 | Fundamentals of Python | 36 |\n",
    "| 2 | Python for Machine Learning, Data Science & Data Visualization | 36 |\n"
   ]
  },
  {
   "cell_type": "markdown",
   "metadata": {},
   "source": [
    "# Sử Dụng MarkDown để thực hiện các công thức\n",
    "# Linear Regression\n",
    "\n",
    "a = $\\frac{(\\sum y)(\\sum x^{2})-(\\sum x)(\\sum xy)}{n(\\sum x^{2})-(\\sum x^{2})}$\n",
    "\n",
    "b = $\\frac{n(\\sum xy)-(\\sum x)(\\sum y)}{n(\\sum x^{2})-(\\sum x)^{2}}$\n"
   ]
  },
  {
   "cell_type": "markdown",
   "metadata": {},
   "source": [
    "# Decision Tree\n",
    "\n",
    "* Entropy using the frequency table of one\n",
    "\n",
    "E(S) = $\\sum_{i=1}^c - p_{i}log_{2}p_{i}$\n",
    "\n",
    "* Entropy using the frequency table of two attributes:\n",
    "\n",
    "E(T, X) = $\\sum_{c \\in x}P(c)E(c)$\n",
    "\n",
    "* Gain\n",
    "\n",
    "Gain(T, X) = Entropy(T) - Entropy(E, X)"
   ]
  }
 ],
 "metadata": {
  "kernelspec": {
   "display_name": "Python 3",
   "language": "python",
   "name": "python3"
  },
  "language_info": {
   "codemirror_mode": {
    "name": "ipython",
    "version": 3
   },
   "file_extension": ".py",
   "mimetype": "text/x-python",
   "name": "python",
   "nbconvert_exporter": "python",
   "pygments_lexer": "ipython3",
   "version": "3.6.8"
  }
 },
 "nbformat": 4,
 "nbformat_minor": 2
}
