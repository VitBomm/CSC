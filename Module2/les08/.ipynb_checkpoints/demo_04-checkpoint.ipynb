{
 "cells": [
  {
   "cell_type": "code",
   "execution_count": 1,
   "metadata": {},
   "outputs": [],
   "source": [
    "import numpy as np\n",
    "import pandas as pd\n",
    "import matplotlib.pyplot as plt\n",
    "import geopandas as gpd\n",
    "import folium"
   ]
  },
  {
   "cell_type": "code",
   "execution_count": 2,
   "metadata": {},
   "outputs": [],
   "source": [
    "world_map = folium.Map()"
   ]
  },
  {
   "cell_type": "code",
   "execution_count": 3,
   "metadata": {},
   "outputs": [
    {
     "data": {
      "text/html": [
       "<div style=\"width:100%;\"><div style=\"position:relative;width:100%;height:0;padding-bottom:60%;\"><iframe src=\"data:text/html;charset=utf-8;base64,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\" style=\"position:absolute;width:100%;height:100%;left:0;top:0;border:none !important;\" allowfullscreen webkitallowfullscreen mozallowfullscreen></iframe></div></div>"
      ],
      "text/plain": [
       "<folium.folium.Map at 0xca90fb0>"
      ]
     },
     "execution_count": 3,
     "metadata": {},
     "output_type": "execute_result"
    }
   ],
   "source": [
    "world_map"
   ]
  },
  {
   "cell_type": "code",
   "execution_count": 4,
   "metadata": {},
   "outputs": [
    {
     "data": {
      "text/html": [
       "<div style=\"width:100%;\"><div style=\"position:relative;width:100%;height:0;padding-bottom:60%;\"><iframe src=\"data:text/html;charset=utf-8;base64,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\" style=\"position:absolute;width:100%;height:100%;left:0;top:0;border:none !important;\" allowfullscreen webkitallowfullscreen mozallowfullscreen></iframe></div></div>"
      ],
      "text/plain": [
       "<folium.folium.Map at 0xca9ef10>"
      ]
     },
     "execution_count": 4,
     "metadata": {},
     "output_type": "execute_result"
    }
   ],
   "source": [
    "hcm_latitude = 10.762622 \n",
    "hcm_longitude = 106.660172\n",
    "hcm_map = folium.Map(location=[hcm_latitude, hcm_longitude], zoom_start=12)\n",
    "hcm_map"
   ]
  },
  {
   "cell_type": "code",
   "execution_count": 5,
   "metadata": {},
   "outputs": [
    {
     "data": {
      "text/html": [
       "<div style=\"width:100%;\"><div style=\"position:relative;width:100%;height:0;padding-bottom:60%;\"><iframe src=\"data:text/html;charset=utf-8;base64,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\" style=\"position:absolute;width:100%;height:100%;left:0;top:0;border:none !important;\" allowfullscreen webkitallowfullscreen mozallowfullscreen></iframe></div></div>"
      ],
      "text/plain": [
       "<folium.folium.Map at 0xca9e390>"
      ]
     },
     "execution_count": 5,
     "metadata": {},
     "output_type": "execute_result"
    }
   ],
   "source": [
    "hcm_map = folium.Map(location=[hcm_latitude, hcm_longitude], zoom_start=8, tiles='Stamen Toner')\n",
    "hcm_map"
   ]
  },
  {
   "cell_type": "code",
   "execution_count": 6,
   "metadata": {},
   "outputs": [
    {
     "data": {
      "text/html": [
       "<div style=\"width:100%;\"><div style=\"position:relative;width:100%;height:0;padding-bottom:60%;\"><iframe src=\"data:text/html;charset=utf-8;base64,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\" style=\"position:absolute;width:100%;height:100%;left:0;top:0;border:none !important;\" allowfullscreen webkitallowfullscreen mozallowfullscreen></iframe></div></div>"
      ],
      "text/plain": [
       "<folium.folium.Map at 0xcaa4db0>"
      ]
     },
     "execution_count": 6,
     "metadata": {},
     "output_type": "execute_result"
    }
   ],
   "source": [
    "hcm_map = folium.Map(location=[hcm_latitude, hcm_longitude], zoom_start=8, tiles='Stamen Terrain')\n",
    "hcm_map"
   ]
  },
  {
   "cell_type": "code",
   "execution_count": 7,
   "metadata": {},
   "outputs": [
    {
     "data": {
      "text/html": [
       "<div style=\"width:100%;\"><div style=\"position:relative;width:100%;height:0;padding-bottom:60%;\"><iframe src=\"data:text/html;charset=utf-8;base64,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\" style=\"position:absolute;width:100%;height:100%;left:0;top:0;border:none !important;\" allowfullscreen webkitallowfullscreen mozallowfullscreen></iframe></div></div>"
      ],
      "text/plain": [
       "<folium.folium.Map at 0xcac8790>"
      ]
     },
     "execution_count": 7,
     "metadata": {},
     "output_type": "execute_result"
    }
   ],
   "source": [
    "hcm_map = folium.Map(location=[hcm_latitude, hcm_longitude], zoom_start=8, tiles='Mapbox Bright')\n",
    "hcm_map"
   ]
  },
  {
   "cell_type": "code",
   "execution_count": 8,
   "metadata": {},
   "outputs": [
    {
     "data": {
      "text/html": [
       "<div>\n",
       "<style scoped>\n",
       "    .dataframe tbody tr th:only-of-type {\n",
       "        vertical-align: middle;\n",
       "    }\n",
       "\n",
       "    .dataframe tbody tr th {\n",
       "        vertical-align: top;\n",
       "    }\n",
       "\n",
       "    .dataframe thead th {\n",
       "        text-align: right;\n",
       "    }\n",
       "</style>\n",
       "<table border=\"1\" class=\"dataframe\">\n",
       "  <thead>\n",
       "    <tr style=\"text-align: right;\">\n",
       "      <th></th>\n",
       "      <th>STT</th>\n",
       "      <th>ID</th>\n",
       "      <th>Name</th>\n",
       "      <th>Bourough</th>\n",
       "      <th>Postal cost</th>\n",
       "      <th>Latitude</th>\n",
       "      <th>Longitude</th>\n",
       "      <th>Population</th>\n",
       "      <th>Population_all</th>\n",
       "      <th>Avg_land_price</th>\n",
       "    </tr>\n",
       "  </thead>\n",
       "  <tbody>\n",
       "    <tr>\n",
       "      <th>0</th>\n",
       "      <td>1</td>\n",
       "      <td>760</td>\n",
       "      <td>Quận 1</td>\n",
       "      <td>Vietnam, Quan 1</td>\n",
       "      <td>NaN</td>\n",
       "      <td>10.775659</td>\n",
       "      <td>106.700424</td>\n",
       "      <td>193.632</td>\n",
       "      <td>193632</td>\n",
       "      <td>59852096</td>\n",
       "    </tr>\n",
       "    <tr>\n",
       "      <th>1</th>\n",
       "      <td>2</td>\n",
       "      <td>761</td>\n",
       "      <td>Quận 12</td>\n",
       "      <td>Vietnam, Quan 12</td>\n",
       "      <td>NaN</td>\n",
       "      <td>10.867153</td>\n",
       "      <td>106.641332</td>\n",
       "      <td>510.326</td>\n",
       "      <td>510326</td>\n",
       "      <td>3505942</td>\n",
       "    </tr>\n",
       "    <tr>\n",
       "      <th>2</th>\n",
       "      <td>3</td>\n",
       "      <td>762</td>\n",
       "      <td>Quận Thủ Đức</td>\n",
       "      <td>Vietnam, Thu Duc</td>\n",
       "      <td>NaN</td>\n",
       "      <td>10.849409</td>\n",
       "      <td>106.753705</td>\n",
       "      <td>528.413</td>\n",
       "      <td>528413</td>\n",
       "      <td>5249286</td>\n",
       "    </tr>\n",
       "    <tr>\n",
       "      <th>3</th>\n",
       "      <td>4</td>\n",
       "      <td>763</td>\n",
       "      <td>Quận 9</td>\n",
       "      <td>Vietnam, Quan 9</td>\n",
       "      <td>NaN</td>\n",
       "      <td>10.842840</td>\n",
       "      <td>106.828685</td>\n",
       "      <td>290.620</td>\n",
       "      <td>290620</td>\n",
       "      <td>3337584</td>\n",
       "    </tr>\n",
       "    <tr>\n",
       "      <th>4</th>\n",
       "      <td>5</td>\n",
       "      <td>764</td>\n",
       "      <td>Quận Gò Vấp</td>\n",
       "      <td>Vietnam, Go Vap</td>\n",
       "      <td>NaN</td>\n",
       "      <td>10.838678</td>\n",
       "      <td>106.665290</td>\n",
       "      <td>634.146</td>\n",
       "      <td>634146</td>\n",
       "      <td>9873267</td>\n",
       "    </tr>\n",
       "  </tbody>\n",
       "</table>\n",
       "</div>"
      ],
      "text/plain": [
       "   STT   ID          Name          Bourough  Postal cost   Latitude  \\\n",
       "0    1  760        Quận 1   Vietnam, Quan 1          NaN  10.775659   \n",
       "1    2  761       Quận 12  Vietnam, Quan 12          NaN  10.867153   \n",
       "2    3  762  Quận Thủ Đức  Vietnam, Thu Duc          NaN  10.849409   \n",
       "3    4  763        Quận 9   Vietnam, Quan 9          NaN  10.842840   \n",
       "4    5  764   Quận Gò Vấp   Vietnam, Go Vap          NaN  10.838678   \n",
       "\n",
       "    Longitude  Population  Population_all  Avg_land_price  \n",
       "0  106.700424     193.632          193632        59852096  \n",
       "1  106.641332     510.326          510326         3505942  \n",
       "2  106.753705     528.413          528413         5249286  \n",
       "3  106.828685     290.620          290620         3337584  \n",
       "4  106.665290     634.146          634146         9873267  "
      ]
     },
     "execution_count": 8,
     "metadata": {},
     "output_type": "execute_result"
    }
   ],
   "source": [
    "df_hcm = pd.read_excel(\"data/HCMC_location.xlsx\", sheet_name=\"Location\")\n",
    "df_hcm.head()"
   ]
  },
  {
   "cell_type": "code",
   "execution_count": 12,
   "metadata": {},
   "outputs": [],
   "source": [
    "hcm_map = folium.Map(location=[hcm_latitude, hcm_longitude], zoom_start=12)"
   ]
  },
  {
   "cell_type": "code",
   "execution_count": 13,
   "metadata": {},
   "outputs": [
    {
     "data": {
      "text/html": [
       "<div style=\"width:100%;\"><div style=\"position:relative;width:100%;height:0;padding-bottom:60%;\"><iframe src=\"data:text/html;charset=utf-8;base64,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\" style=\"position:absolute;width:100%;height:100%;left:0;top:0;border:none !important;\" allowfullscreen webkitallowfullscreen mozallowfullscreen></iframe></div></div>"
      ],
      "text/plain": [
       "<folium.folium.Map at 0xcb54d10>"
      ]
     },
     "execution_count": 13,
     "metadata": {},
     "output_type": "execute_result"
    }
   ],
   "source": [
    "\n",
    "# instantiate a feature group for the district in the dataframe\n",
    "districts = folium.map.FeatureGroup()\n",
    "# loop through the dictricts and add each to the dictrict feature group\n",
    "for lat, lng, in zip(df_hcm.Latitude, df_hcm.Longitude):\n",
    "    districts.add_child(\n",
    "        folium.CircleMarker(\n",
    "            [lat, lng],\n",
    "            radius=5, # define how big you want the circle markers to be\n",
    "            color='yellow',\n",
    "            fill=True,\n",
    "            fill_color='red',\n",
    "            fill_opacity=0.6\n",
    "        )\n",
    "    )\n",
    "# add dictricts to map\n",
    "hcm_map.add_child(districts)"
   ]
  },
  {
   "cell_type": "code",
   "execution_count": 17,
   "metadata": {},
   "outputs": [],
   "source": [
    "hcm_map = folium.Map(location=[hcm_latitude, hcm_longitude], zoom_start=12)"
   ]
  },
  {
   "cell_type": "code",
   "execution_count": 18,
   "metadata": {},
   "outputs": [
    {
     "data": {
      "text/html": [
       "<div style=\"width:100%;\"><div style=\"position:relative;width:100%;height:0;padding-bottom:60%;\"><iframe src=\"data:text/html;charset=utf-8;base64,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\" style=\"position:absolute;width:100%;height:100%;left:0;top:0;border:none !important;\" allowfullscreen webkitallowfullscreen mozallowfullscreen></iframe></div></div>"
      ],
      "text/plain": [
       "<folium.folium.Map at 0xcb84470>"
      ]
     },
     "execution_count": 18,
     "metadata": {},
     "output_type": "execute_result"
    }
   ],
   "source": [
    "# instantiate a feature group for the dictricts  in the dataframe\n",
    "dictricts = folium.map.FeatureGroup()\n",
    "\n",
    "# loop through the district and add each to the dictricts feature group\n",
    "for lat, lng, in zip(df_hcm.Latitude, df_hcm.Longitude):\n",
    "    districts.add_child(\n",
    "        folium.CircleMarker(\n",
    "            [lat, lng],\n",
    "            radius=5, # define how big you want the circle markers to be\n",
    "            color='yellow',\n",
    "            fill=True,\n",
    "            fill_color='green',\n",
    "            fill_opacity=0.6\n",
    "        )\n",
    "    )\n",
    "# add pop-up text to each marker on the map\n",
    "latitudes = list(df_hcm.Latitude)\n",
    "longitudes = list(df_hcm.Longitude)\n",
    "labels = list(df_hcm.Name)\n",
    "\n",
    "for lat, lng, label in zip(latitudes, longitudes, labels):\n",
    "    folium.Marker([lat, lng], popup=label).add_to(hcm_map)    \n",
    "    \n",
    "# add dictricts to map\n",
    "hcm_map.add_child(dictricts)"
   ]
  },
  {
   "cell_type": "code",
   "execution_count": null,
   "metadata": {},
   "outputs": [],
   "source": []
  }
 ],
 "metadata": {
  "kernelspec": {
   "display_name": "Python 3",
   "language": "python",
   "name": "python3"
  },
  "language_info": {
   "codemirror_mode": {
    "name": "ipython",
    "version": 3
   },
   "file_extension": ".py",
   "mimetype": "text/x-python",
   "name": "python",
   "nbconvert_exporter": "python",
   "pygments_lexer": "ipython3",
   "version": "3.6.5"
  }
 },
 "nbformat": 4,
 "nbformat_minor": 2
}
