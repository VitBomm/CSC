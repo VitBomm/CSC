{
 "cells": [
  {
   "cell_type": "code",
   "execution_count": 1,
   "metadata": {},
   "outputs": [],
   "source": [
    "import numpy as np\n",
    "import pandas as pd\n",
    "import matplotlib.pyplot as plt"
   ]
  },
  {
   "cell_type": "code",
   "execution_count": 2,
   "metadata": {},
   "outputs": [
    {
     "name": "stdout",
     "output_type": "stream",
     "text": [
      "<class 'pandas.core.frame.DataFrame'>\n",
      "RangeIndex: 170 entries, 0 to 169\n",
      "Data columns (total 16 columns):\n",
      "School ID          170 non-null int64\n",
      "School Name        170 non-null object\n",
      "Street Address     170 non-null object\n",
      "City               170 non-null object\n",
      "State              170 non-null object\n",
      "ZIP Code           170 non-null int64\n",
      "Phone Number       170 non-null object\n",
      "School State ID    170 non-null int64\n",
      "School Level       170 non-null object\n",
      "Lowest Grade       170 non-null object\n",
      "Highest Grade      170 non-null object\n",
      "Latitude           170 non-null float64\n",
      "Longitude          170 non-null float64\n",
      "School Website     170 non-null object\n",
      "Cluster            107 non-null object\n",
      "Mapped Location    170 non-null object\n",
      "dtypes: float64(2), int64(3), object(11)\n",
      "memory usage: 21.4+ KB\n"
     ]
    }
   ],
   "source": [
    "schools = pd.read_csv(\"data/schools.csv\")\n",
    "schools.info()"
   ]
  },
  {
   "cell_type": "code",
   "execution_count": 3,
   "metadata": {},
   "outputs": [
    {
     "data": {
      "text/html": [
       "<div>\n",
       "<style scoped>\n",
       "    .dataframe tbody tr th:only-of-type {\n",
       "        vertical-align: middle;\n",
       "    }\n",
       "\n",
       "    .dataframe tbody tr th {\n",
       "        vertical-align: top;\n",
       "    }\n",
       "\n",
       "    .dataframe thead th {\n",
       "        text-align: right;\n",
       "    }\n",
       "</style>\n",
       "<table border=\"1\" class=\"dataframe\">\n",
       "  <thead>\n",
       "    <tr style=\"text-align: right;\">\n",
       "      <th></th>\n",
       "      <th>School ID</th>\n",
       "      <th>School Name</th>\n",
       "      <th>Street Address</th>\n",
       "      <th>City</th>\n",
       "      <th>State</th>\n",
       "      <th>ZIP Code</th>\n",
       "      <th>Phone Number</th>\n",
       "      <th>School State ID</th>\n",
       "      <th>School Level</th>\n",
       "      <th>Lowest Grade</th>\n",
       "      <th>Highest Grade</th>\n",
       "      <th>Latitude</th>\n",
       "      <th>Longitude</th>\n",
       "      <th>School Website</th>\n",
       "      <th>Cluster</th>\n",
       "      <th>Mapped Location</th>\n",
       "    </tr>\n",
       "  </thead>\n",
       "  <tbody>\n",
       "    <tr>\n",
       "      <td>0</td>\n",
       "      <td>496</td>\n",
       "      <td>A. Z. Kelley Elementary</td>\n",
       "      <td>5834 Pettus Road</td>\n",
       "      <td>Antioch</td>\n",
       "      <td>TN</td>\n",
       "      <td>37013</td>\n",
       "      <td>(615)941-7535</td>\n",
       "      <td>1</td>\n",
       "      <td>Elementary School</td>\n",
       "      <td>Grade P3</td>\n",
       "      <td>Grade 4</td>\n",
       "      <td>36.021817</td>\n",
       "      <td>-86.658848</td>\n",
       "      <td>http://schools.mnps.org/az-kelley-elementary-s...</td>\n",
       "      <td>Cane Ridge</td>\n",
       "      <td>(36.02181712, -86.65884778)</td>\n",
       "    </tr>\n",
       "    <tr>\n",
       "      <td>1</td>\n",
       "      <td>375</td>\n",
       "      <td>Alex Green Elementary</td>\n",
       "      <td>3921 Lloyd Road</td>\n",
       "      <td>Whites Creek</td>\n",
       "      <td>TN</td>\n",
       "      <td>37189</td>\n",
       "      <td>(615)876-5105</td>\n",
       "      <td>5</td>\n",
       "      <td>Elementary School</td>\n",
       "      <td>Grade P4</td>\n",
       "      <td>Grade 4</td>\n",
       "      <td>36.252961</td>\n",
       "      <td>-86.832229</td>\n",
       "      <td>http://schools.mnps.org/alex-green-elementary-...</td>\n",
       "      <td>Whites Creek</td>\n",
       "      <td>(36.2529607, -86.8322292)</td>\n",
       "    </tr>\n",
       "    <tr>\n",
       "      <td>2</td>\n",
       "      <td>105</td>\n",
       "      <td>Amqui Elementary</td>\n",
       "      <td>319 Anderson Lane</td>\n",
       "      <td>Madison</td>\n",
       "      <td>TN</td>\n",
       "      <td>37115</td>\n",
       "      <td>(615)612-3678</td>\n",
       "      <td>10</td>\n",
       "      <td>Elementary School</td>\n",
       "      <td>Grade P3</td>\n",
       "      <td>Grade 4</td>\n",
       "      <td>36.273766</td>\n",
       "      <td>-86.703832</td>\n",
       "      <td>http://schools.mnps.org/amqui-elementary-school</td>\n",
       "      <td>Hunters Lane</td>\n",
       "      <td>(36.27376585, -86.70383153)</td>\n",
       "    </tr>\n",
       "    <tr>\n",
       "      <td>3</td>\n",
       "      <td>460</td>\n",
       "      <td>Andrew Jackson Elementary</td>\n",
       "      <td>110 Shute Ln</td>\n",
       "      <td>Old Hickory</td>\n",
       "      <td>TN</td>\n",
       "      <td>37138</td>\n",
       "      <td>(615)847-7317</td>\n",
       "      <td>15</td>\n",
       "      <td>Elementary School</td>\n",
       "      <td>Grade P4</td>\n",
       "      <td>Grade 4</td>\n",
       "      <td>36.231585</td>\n",
       "      <td>-86.623775</td>\n",
       "      <td>http://schools.mnps.org/andrew-jackson-element...</td>\n",
       "      <td>McGavock</td>\n",
       "      <td>(36.23158465, -86.62377469)</td>\n",
       "    </tr>\n",
       "    <tr>\n",
       "      <td>4</td>\n",
       "      <td>110</td>\n",
       "      <td>Antioch High School</td>\n",
       "      <td>1900 Hobson Pike</td>\n",
       "      <td>Antioch</td>\n",
       "      <td>TN</td>\n",
       "      <td>37013</td>\n",
       "      <td>(615)641-5400</td>\n",
       "      <td>20</td>\n",
       "      <td>High School</td>\n",
       "      <td>Grade 9</td>\n",
       "      <td>Grade 12</td>\n",
       "      <td>36.046675</td>\n",
       "      <td>-86.599418</td>\n",
       "      <td>http://schools.mnps.org/antioch-high-school</td>\n",
       "      <td>Antioch</td>\n",
       "      <td>(36.04667464, -86.59941833)</td>\n",
       "    </tr>\n",
       "  </tbody>\n",
       "</table>\n",
       "</div>"
      ],
      "text/plain": [
       "   School ID                School Name     Street Address          City  \\\n",
       "0        496    A. Z. Kelley Elementary   5834 Pettus Road       Antioch   \n",
       "1        375      Alex Green Elementary    3921 Lloyd Road  Whites Creek   \n",
       "2        105           Amqui Elementary  319 Anderson Lane       Madison   \n",
       "3        460  Andrew Jackson Elementary       110 Shute Ln   Old Hickory   \n",
       "4        110        Antioch High School   1900 Hobson Pike       Antioch   \n",
       "\n",
       "  State  ZIP Code   Phone Number  School State ID       School Level  \\\n",
       "0    TN     37013  (615)941-7535                1  Elementary School   \n",
       "1    TN     37189  (615)876-5105                5  Elementary School   \n",
       "2    TN     37115  (615)612-3678               10  Elementary School   \n",
       "3    TN     37138  (615)847-7317               15  Elementary School   \n",
       "4    TN     37013  (615)641-5400               20        High School   \n",
       "\n",
       "  Lowest Grade Highest Grade   Latitude  Longitude  \\\n",
       "0     Grade P3       Grade 4  36.021817 -86.658848   \n",
       "1     Grade P4       Grade 4  36.252961 -86.832229   \n",
       "2     Grade P3       Grade 4  36.273766 -86.703832   \n",
       "3     Grade P4       Grade 4  36.231585 -86.623775   \n",
       "4      Grade 9      Grade 12  36.046675 -86.599418   \n",
       "\n",
       "                                      School Website       Cluster  \\\n",
       "0  http://schools.mnps.org/az-kelley-elementary-s...    Cane Ridge   \n",
       "1  http://schools.mnps.org/alex-green-elementary-...  Whites Creek   \n",
       "2    http://schools.mnps.org/amqui-elementary-school  Hunters Lane   \n",
       "3  http://schools.mnps.org/andrew-jackson-element...      McGavock   \n",
       "4        http://schools.mnps.org/antioch-high-school       Antioch   \n",
       "\n",
       "               Mapped Location  \n",
       "0  (36.02181712, -86.65884778)  \n",
       "1    (36.2529607, -86.8322292)  \n",
       "2  (36.27376585, -86.70383153)  \n",
       "3  (36.23158465, -86.62377469)  \n",
       "4  (36.04667464, -86.59941833)  "
      ]
     },
     "execution_count": 3,
     "metadata": {},
     "output_type": "execute_result"
    }
   ],
   "source": [
    "schools.head()"
   ]
  },
  {
   "cell_type": "code",
   "execution_count": 4,
   "metadata": {},
   "outputs": [
    {
     "data": {
      "image/png": "[encoded data removed]",
      "text/plain": [
       "<Figure size 432x288 with 1 Axes>"
      ]
     },
     "metadata": {
      "needs_background": "light"
     },
     "output_type": "display_data"
    }
   ],
   "source": [
    "plt.scatter(schools.Longitude, schools.Latitude, c = 'darkblue', marker = 'p')\n",
    "plt.show()"
   ]
  },
  {
   "cell_type": "code",
   "execution_count": 5,
   "metadata": {},
   "outputs": [
    {
     "data": {
      "image/png": "[encoded data removed]",
      "text/plain": [
       "<Figure size 432x288 with 1 Axes>"
      ]
     },
     "metadata": {
      "needs_background": "light"
     },
     "output_type": "display_data"
    }
   ],
   "source": [
    "plt.scatter(schools.Longitude,\n",
    "schools.Latitude, c = 'darkblue', marker = 'p')\n",
    "plt.xlabel('Longitude')  \n",
    "plt.ylabel('Latitude')  \n",
    "plt.title('Nashville Public Schools')  \n",
    "plt.grid()\n",
    "plt.show()"
   ]
  },
  {
   "cell_type": "code",
   "execution_count": null,
   "metadata": {},
   "outputs": [],
   "source": []
  }
 ],
 "metadata": {
  "kernelspec": {
   "display_name": "Python 3",
   "language": "python",
   "name": "python3"
  },
  "language_info": {
   "codemirror_mode": {
    "name": "ipython",
    "version": 3
   },
   "file_extension": ".py",
   "mimetype": "text/x-python",
   "name": "python",
   "nbconvert_exporter": "python",
   "pygments_lexer": "ipython3",
   "version": "3.6.8"
  }
 },
 "nbformat": 4,
 "nbformat_minor": 2
}
