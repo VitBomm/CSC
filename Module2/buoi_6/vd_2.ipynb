{
 "cells": [
  {
   "cell_type": "code",
   "execution_count": 1,
   "metadata": {},
   "outputs": [],
   "source": [
    "import numpy as np\n",
    "import pandas as pd\n",
    "import matplotlib.pyplot as plt"
   ]
  },
  {
   "cell_type": "code",
   "execution_count": 2,
   "metadata": {},
   "outputs": [
    {
     "name": "stdout",
     "output_type": "stream",
     "text": [
      "WARNING *** OLE2 inconsistency: SSCS size is 0 but SSAT size is non-zero\n"
     ]
    }
   ],
   "source": [
    "data = pd.read_excel('group_by_dep.xls')"
   ]
  },
  {
   "cell_type": "code",
   "execution_count": 3,
   "metadata": {},
   "outputs": [
    {
     "data": {
      "text/html": [
       "<div>\n",
       "<style scoped>\n",
       "    .dataframe tbody tr th:only-of-type {\n",
       "        vertical-align: middle;\n",
       "    }\n",
       "\n",
       "    .dataframe tbody tr th {\n",
       "        vertical-align: top;\n",
       "    }\n",
       "\n",
       "    .dataframe thead th {\n",
       "        text-align: right;\n",
       "    }\n",
       "</style>\n",
       "<table border=\"1\" class=\"dataframe\">\n",
       "  <thead>\n",
       "    <tr style=\"text-align: right;\">\n",
       "      <th></th>\n",
       "      <th>DEPARTMENT_ID</th>\n",
       "      <th>DEPARTMENT_NAME</th>\n",
       "      <th>count_emp</th>\n",
       "      <th>sum_sal</th>\n",
       "      <th>avg_sal</th>\n",
       "      <th>min_sal</th>\n",
       "      <th>max_sal</th>\n",
       "    </tr>\n",
       "  </thead>\n",
       "  <tbody>\n",
       "    <tr>\n",
       "      <th>0</th>\n",
       "      <td>10</td>\n",
       "      <td>Administration</td>\n",
       "      <td>1</td>\n",
       "      <td>4900</td>\n",
       "      <td>4900.000000</td>\n",
       "      <td>4900</td>\n",
       "      <td>4900</td>\n",
       "    </tr>\n",
       "    <tr>\n",
       "      <th>1</th>\n",
       "      <td>20</td>\n",
       "      <td>Marketing</td>\n",
       "      <td>2</td>\n",
       "      <td>19000</td>\n",
       "      <td>9500.000000</td>\n",
       "      <td>6000</td>\n",
       "      <td>13000</td>\n",
       "    </tr>\n",
       "    <tr>\n",
       "      <th>2</th>\n",
       "      <td>30</td>\n",
       "      <td>Purchasing</td>\n",
       "      <td>6</td>\n",
       "      <td>27900</td>\n",
       "      <td>4650.000000</td>\n",
       "      <td>3000</td>\n",
       "      <td>11500</td>\n",
       "    </tr>\n",
       "    <tr>\n",
       "      <th>3</th>\n",
       "      <td>40</td>\n",
       "      <td>Human Resources</td>\n",
       "      <td>1</td>\n",
       "      <td>6500</td>\n",
       "      <td>6500.000000</td>\n",
       "      <td>6500</td>\n",
       "      <td>6500</td>\n",
       "    </tr>\n",
       "    <tr>\n",
       "      <th>4</th>\n",
       "      <td>50</td>\n",
       "      <td>Shipping</td>\n",
       "      <td>45</td>\n",
       "      <td>156400</td>\n",
       "      <td>3475.555555</td>\n",
       "      <td>2100</td>\n",
       "      <td>8200</td>\n",
       "    </tr>\n",
       "    <tr>\n",
       "      <th>5</th>\n",
       "      <td>60</td>\n",
       "      <td>IT</td>\n",
       "      <td>5</td>\n",
       "      <td>28800</td>\n",
       "      <td>5760.000000</td>\n",
       "      <td>4200</td>\n",
       "      <td>9000</td>\n",
       "    </tr>\n",
       "    <tr>\n",
       "      <th>6</th>\n",
       "      <td>70</td>\n",
       "      <td>Public Relations</td>\n",
       "      <td>1</td>\n",
       "      <td>10000</td>\n",
       "      <td>10000.000000</td>\n",
       "      <td>10000</td>\n",
       "      <td>10000</td>\n",
       "    </tr>\n",
       "    <tr>\n",
       "      <th>7</th>\n",
       "      <td>80</td>\n",
       "      <td>Sales</td>\n",
       "      <td>34</td>\n",
       "      <td>304500</td>\n",
       "      <td>8955.882352</td>\n",
       "      <td>6100</td>\n",
       "      <td>14000</td>\n",
       "    </tr>\n",
       "    <tr>\n",
       "      <th>8</th>\n",
       "      <td>90</td>\n",
       "      <td>Executive</td>\n",
       "      <td>3</td>\n",
       "      <td>59500</td>\n",
       "      <td>19833.333333</td>\n",
       "      <td>17500</td>\n",
       "      <td>24500</td>\n",
       "    </tr>\n",
       "    <tr>\n",
       "      <th>9</th>\n",
       "      <td>100</td>\n",
       "      <td>Finance</td>\n",
       "      <td>6</td>\n",
       "      <td>54608</td>\n",
       "      <td>9101.333333</td>\n",
       "      <td>7400</td>\n",
       "      <td>12508</td>\n",
       "    </tr>\n",
       "    <tr>\n",
       "      <th>10</th>\n",
       "      <td>110</td>\n",
       "      <td>Accounting</td>\n",
       "      <td>2</td>\n",
       "      <td>21308</td>\n",
       "      <td>10654.000000</td>\n",
       "      <td>8800</td>\n",
       "      <td>12508</td>\n",
       "    </tr>\n",
       "  </tbody>\n",
       "</table>\n",
       "</div>"
      ],
      "text/plain": [
       "    DEPARTMENT_ID   DEPARTMENT_NAME  count_emp  sum_sal       avg_sal  \\\n",
       "0              10    Administration          1     4900   4900.000000   \n",
       "1              20         Marketing          2    19000   9500.000000   \n",
       "2              30        Purchasing          6    27900   4650.000000   \n",
       "3              40   Human Resources          1     6500   6500.000000   \n",
       "4              50          Shipping         45   156400   3475.555555   \n",
       "5              60                IT          5    28800   5760.000000   \n",
       "6              70  Public Relations          1    10000  10000.000000   \n",
       "7              80             Sales         34   304500   8955.882352   \n",
       "8              90         Executive          3    59500  19833.333333   \n",
       "9             100           Finance          6    54608   9101.333333   \n",
       "10            110        Accounting          2    21308  10654.000000   \n",
       "\n",
       "    min_sal  max_sal  \n",
       "0      4900     4900  \n",
       "1      6000    13000  \n",
       "2      3000    11500  \n",
       "3      6500     6500  \n",
       "4      2100     8200  \n",
       "5      4200     9000  \n",
       "6     10000    10000  \n",
       "7      6100    14000  \n",
       "8     17500    24500  \n",
       "9      7400    12508  \n",
       "10     8800    12508  "
      ]
     },
     "execution_count": 3,
     "metadata": {},
     "output_type": "execute_result"
    }
   ],
   "source": [
    "data"
   ]
  },
  {
   "cell_type": "code",
   "execution_count": 4,
   "metadata": {},
   "outputs": [
    {
     "data": {
      "image/png": "[encoded data removed]",
      "text/plain": [
       "<Figure size 432x288 with 1 Axes>"
      ]
     },
     "metadata": {
      "needs_background": "light"
     },
     "output_type": "display_data"
    }
   ],
   "source": [
    "# ve cho mot phong: 80\n",
    "data_80 = data[data['DEPARTMENT_ID']==80].iloc[0][['min_sal','avg_sal','max_sal']]\n",
    "plt.plot(data_80, label='Sales', marker='o', markersize=10)\n",
    "plt.title('Luong theo phong')\n",
    "plt.ylabel('Luong')\n",
    "plt.legend(title='Ghi chu')\n",
    "plt.grid(True)\n",
    "plt.show()"
   ]
  },
  {
   "cell_type": "code",
   "execution_count": 7,
   "metadata": {},
   "outputs": [
    {
     "data": {
      "image/png": "[encoded data removed]",
      "text/plain": [
       "<Figure size 576x432 with 1 Axes>"
      ]
     },
     "metadata": {
      "needs_background": "light"
     },
     "output_type": "display_data"
    }
   ],
   "source": [
    "plt.figure(figsize=(8,6))\n",
    "deps = [50,80,90]\n",
    "for dep in deps:\n",
    "    data_ = data[data['DEPARTMENT_ID']==dep].iloc[0][['min_sal','avg_sal','max_sal']]\n",
    "    depname = data[data['DEPARTMENT_ID']==dep].iloc[0]['DEPARTMENT_NAME']\n",
    "    plt.plot(data_, label=depname, marker='o', markersize=10)\n",
    "plt.title('Luong theo phong')\n",
    "plt.ylabel('Luong')\n",
    "plt.legend(title='Ghi chu')\n",
    "plt.grid(True)\n",
    "plt.show()    "
   ]
  },
  {
   "cell_type": "code",
   "execution_count": null,
   "metadata": {},
   "outputs": [],
   "source": []
  }
 ],
 "metadata": {
  "kernelspec": {
   "display_name": "Python 3",
   "language": "python",
   "name": "python3"
  },
  "language_info": {
   "codemirror_mode": {
    "name": "ipython",
    "version": 3
   },
   "file_extension": ".py",
   "mimetype": "text/x-python",
   "name": "python",
   "nbconvert_exporter": "python",
   "pygments_lexer": "ipython3",
   "version": "3.6.8"
  }
 },
 "nbformat": 4,
 "nbformat_minor": 2
}
