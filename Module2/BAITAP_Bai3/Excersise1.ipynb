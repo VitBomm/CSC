{
 "cells": [
  {
   "cell_type": "markdown",
   "metadata": {},
   "source": [
    "1. Tạo numpy array có giá trị từ 0 - 9, in array, type, shape\n",
    "2. Từ numpy array ở câu 1 => tạo arr_odd và arr_even => in 2 array mới này\n",
    "3. Từ numpy array ở câu 1 => tạo arr_update_1 với các phần tử chẵn giữ nguyên, các phần tử lẻ\n",
    "thay bằng 100 => in kết quả\n",
    "4. Từ 2 array => tạo arr mới chỉ chứa các phần tử xuất hiện ở cả 2 array, lấy duy nhất, dùng\n",
    "np.intersect1d(a,b)\n",
    "5. Từ 2 array a và b ở câu trên => Tạo array mới chỉ chứa các phần tử chỉ xuất hiện ở array a,\n",
    "dùng np.setdiff1d(a,b)\n",
    "6. Cho array e, tạo array f chỉ chứa các phần tử có giá trị từ 5 đến 10 của e\n",
    "7. Tạo array có 10 phần tử 0, cập nhật phần tử ở vị trí thứ 5 là 1\n",
    "8. Tạo array có giá trị từ 10 đến 24\n",
    "9. Cho array k => tạo array l từ k với các phần tử đếu khác 0\n",
    "10. Từ array của câu trên, thêm 2 phần tử có giá trị là 10, 20 vào cuối array\n",
    "11. Từ array của câu trên, thêm phần tử có giá trị 100 vào index = 5\n",
    "12. Từ array của câu trên, xóa phần tử index = 0, 1, 2"
   ]
  },
  {
   "cell_type": "code",
   "execution_count": 1,
   "metadata": {},
   "outputs": [],
   "source": [
    "import numpy as np"
   ]
  },
  {
   "cell_type": "code",
   "execution_count": 2,
   "metadata": {},
   "outputs": [
    {
     "name": "stdout",
     "output_type": "stream",
     "text": [
      "[0 1 2 3 4 5 6 7 8 9]\n",
      "<class 'numpy.ndarray'>\n",
      "(10,)\n"
     ]
    }
   ],
   "source": [
    "# 1. Tạo numpy array có giá trị từ 0 - 9, in array, type, shape\n",
    "array0_9 = np.arange(0,10)\n",
    "print(array0_9)\n",
    "print(type(array0_9))\n",
    "print(array0_9.shape)"
   ]
  },
  {
   "cell_type": "code",
   "execution_count": 3,
   "metadata": {},
   "outputs": [
    {
     "name": "stdout",
     "output_type": "stream",
     "text": [
      "Odd Array [1 3 5 7 9]\n",
      "Even Array [0 2 4 6 8]\n"
     ]
    }
   ],
   "source": [
    "#2. Từ numpy array ở câu 1 => tạo arr_odd và arr_even => in 2 array mới này\n",
    "arr_odd = array0_9[array0_9%2!=0]\n",
    "print(\"Odd Array\",arr_odd)\n",
    "arr_even = array0_9[array0_9%2==0]\n",
    "print(\"Even Array\",arr_even)"
   ]
  },
  {
   "cell_type": "code",
   "execution_count": 4,
   "metadata": {},
   "outputs": [
    {
     "data": {
      "text/plain": [
       "array([  0, 100,   2, 100,   4, 100,   6, 100,   8, 100])"
      ]
     },
     "execution_count": 4,
     "metadata": {},
     "output_type": "execute_result"
    }
   ],
   "source": [
    "# 3. Từ numpy array ở câu 1 => tạo arr_update_1 với các phần tử chẵn giữ nguyên, các phần tử lẻ\n",
    "# thay bằng 100 => in kết quả\n",
    "condition = np.where(array0_9 % 2 != 0,100,array0_9)\n",
    "condition"
   ]
  },
  {
   "cell_type": "code",
   "execution_count": 5,
   "metadata": {},
   "outputs": [
    {
     "name": "stdout",
     "output_type": "stream",
     "text": [
      "Array_1:  [0 1 2 3 4 5 6 7 8 9]\n",
      "Array_2:  [ 5  6  7  8  9 10 11 12 13 14 15]\n",
      "Intersect 2 Array:  [5 6 7 8 9]\n"
     ]
    }
   ],
   "source": [
    "# 4. Từ 2 array => tạo arr mới chỉ chứa các phần tử xuất hiện ở cả 2 array, lấy duy nhất, dùng\n",
    "# np.intersect1d(a,b)\n",
    "array_1 = np.arange(0,10)\n",
    "print('Array_1: ', array_1)\n",
    "array_2 = np.arange(5,16)\n",
    "print('Array_2: ', array_2)\n",
    "array_intersec = np.intersect1d(array_1, array_2)\n",
    "print('Intersect 2 Array: ',array_intersec)"
   ]
  },
  {
   "cell_type": "code",
   "execution_count": 6,
   "metadata": {},
   "outputs": [
    {
     "name": "stdout",
     "output_type": "stream",
     "text": [
      "Only a:  [0 1 2 3 4]\n"
     ]
    }
   ],
   "source": [
    "# 5. Từ 2 array a và b ở câu trên => Tạo array mới chỉ chứa các phần tử chỉ xuất hiện ở array a,\n",
    "# dùng np.setdiff1d(a,b)\n",
    "array_only_a = np.setdiff1d(array_1, array_2)\n",
    "print('Only a: ', array_only_a)"
   ]
  },
  {
   "cell_type": "code",
   "execution_count": 7,
   "metadata": {},
   "outputs": [
    {
     "data": {
      "text/plain": [
       "array([ 5,  6,  7,  8,  9, 10])"
      ]
     },
     "execution_count": 7,
     "metadata": {},
     "output_type": "execute_result"
    }
   ],
   "source": [
    "# 6. Cho array e, tạo array f chỉ chứa các phần tử có giá trị từ 5 đến 10 của e\n",
    "array_e = np.arange(0,15)\n",
    "cond = np.where((array_e >= 5) &( array_e < 11))\n",
    "array_f = array_e[cond]\n",
    "array_f"
   ]
  },
  {
   "cell_type": "code",
   "execution_count": 8,
   "metadata": {},
   "outputs": [
    {
     "data": {
      "text/plain": [
       "array([0., 0., 0., 0., 1., 0., 0., 0., 0., 0.])"
      ]
     },
     "execution_count": 8,
     "metadata": {},
     "output_type": "execute_result"
    }
   ],
   "source": [
    "# 7. Tạo array có 10 phần tử 0, cập nhật phần tử ở vị trí thứ 5 là 1\n",
    "array_0 = np.zeros((10,))\n",
    "array_0[4] = 1\n",
    "array_0"
   ]
  },
  {
   "cell_type": "code",
   "execution_count": 9,
   "metadata": {},
   "outputs": [
    {
     "data": {
      "text/plain": [
       "array([10, 11, 12, 13, 14, 15, 16, 17, 18, 19, 20, 21, 22, 23, 24])"
      ]
     },
     "execution_count": 9,
     "metadata": {},
     "output_type": "execute_result"
    }
   ],
   "source": [
    "# 8. Tạo array có giá trị từ 10 đến 24\n",
    "array_10_24 = np.arange(10,25)\n",
    "array_10_24"
   ]
  },
  {
   "cell_type": "code",
   "execution_count": 10,
   "metadata": {},
   "outputs": [
    {
     "name": "stdout",
     "output_type": "stream",
     "text": [
      "[ 0 10  6  8  0  4  9 12]\n",
      "(array([1, 2, 3, 5, 6, 7]),)\n"
     ]
    },
    {
     "data": {
      "text/plain": [
       "array([10,  6,  8,  4,  9, 12])"
      ]
     },
     "execution_count": 10,
     "metadata": {},
     "output_type": "execute_result"
    }
   ],
   "source": [
    "# 9. Cho array k => tạo array l từ k với các phần tử đếu khác 0\n",
    "array_k = np.array([0,10,6,8,0,4,9,12])\n",
    "print(array_k)\n",
    "cond = np.where(array_k!=0)\n",
    "print(cond)\n",
    "array_l = array_k[cond]\n",
    "array_l"
   ]
  },
  {
   "cell_type": "code",
   "execution_count": 11,
   "metadata": {},
   "outputs": [
    {
     "data": {
      "text/plain": [
       "array([10,  6,  8,  4,  9, 12, 10, 20])"
      ]
     },
     "execution_count": 11,
     "metadata": {},
     "output_type": "execute_result"
    }
   ],
   "source": [
    "# 10. Từ array của câu trên, thêm 2 phần tử có giá trị là 10, 20 vào cuối array\n",
    "array_temp = np.append(array_l,[10,20])\n",
    "array_temp"
   ]
  },
  {
   "cell_type": "code",
   "execution_count": 12,
   "metadata": {},
   "outputs": [
    {
     "data": {
      "text/plain": [
       "array([ 10,   6,   8,   4,   9, 100,  12,  10,  20])"
      ]
     },
     "execution_count": 12,
     "metadata": {},
     "output_type": "execute_result"
    }
   ],
   "source": [
    "# 11. Từ array của câu trên, thêm phần tử có giá trị 100 vào index = 5\n",
    "array_temp = np.insert(array_temp,5,100)\n",
    "array_temp"
   ]
  },
  {
   "cell_type": "code",
   "execution_count": 13,
   "metadata": {},
   "outputs": [
    {
     "data": {
      "text/plain": [
       "array([  4,   9, 100,  12,  10,  20])"
      ]
     },
     "execution_count": 13,
     "metadata": {},
     "output_type": "execute_result"
    }
   ],
   "source": [
    "# 12. Từ array của câu trên, xóa phần tử index = 0, 1, 2\n",
    "array_12 = np.delete(array_temp,[0,1,2])\n",
    "array_12"
   ]
  }
 ],
 "metadata": {
  "kernelspec": {
   "display_name": "Python 3",
   "language": "python",
   "name": "python3"
  },
  "language_info": {
   "codemirror_mode": {
    "name": "ipython",
    "version": 3
   },
   "file_extension": ".py",
   "mimetype": "text/x-python",
   "name": "python",
   "nbconvert_exporter": "python",
   "pygments_lexer": "ipython3",
   "version": "3.6.8"
  }
 },
 "nbformat": 4,
 "nbformat_minor": 2
}
