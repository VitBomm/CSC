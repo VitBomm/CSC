{
 "cells": [
  {
   "cell_type": "markdown",
   "metadata": {},
   "source": [
    "Cho tập tin heights_1.txt, weights_1.txt => hãy chép dữ liệu từ tập tin\n",
    "này vào list là height, weight\n",
    "1. Chuyển list height thành numpy array np_height => In shape của np_height\n",
    "2. Chuyển list weight thành numpy array np_weight => In shape của np_weight\n",
    "3. Cho hệ số quy đổi từ inch sang m là 0.0254 => Hãy tạo ra numpy array np_height_m dựa trên\n",
    "công thức: np_height * hệ số quy đổi này => In kết quả\n",
    "4. Cho hệ số quy đổi từ pound sang kg là 0.453592 => Hãy tạo ra numpy array np_weight_kg\n",
    "dựa trên công thức: np_weight * hệ số quy đổi này => In kết quả\n",
    "5. Tính và in BMI của np_height_m và np_weight_kg theo công thức BIM = Cân nặng / (Chiều\n",
    "cao * Chiều cao)\n",
    "6. In weight ở vị trí index 50\n",
    "7. In ra array con lấy từ index 100 đến index 110 (lấy cả index 110)\n"
   ]
  },
  {
   "cell_type": "code",
   "execution_count": 1,
   "metadata": {},
   "outputs": [],
   "source": [
    "import numpy as np"
   ]
  },
  {
   "cell_type": "code",
   "execution_count": 2,
   "metadata": {},
   "outputs": [],
   "source": [
    "with open('heights_1.txt','r') as f:\n",
    "    data_h = f.read()\n",
    "\n",
    "with open('weights_1.txt','r') as f:\n",
    "    data_w = f.read()"
   ]
  },
  {
   "cell_type": "code",
   "execution_count": 3,
   "metadata": {},
   "outputs": [],
   "source": [
    "#1. Chuyển list height thành numpy array np_height => In shape của np_height\n",
    "#2. Chuyển list weight thành numpy array np_weight => In shape của np_weight\n",
    "\n",
    "heights = np.array(data_h.split(', '),int)\n",
    "weights = np.array(data_w.split(', '),int)"
   ]
  },
  {
   "cell_type": "code",
   "execution_count": 4,
   "metadata": {},
   "outputs": [
    {
     "name": "stdout",
     "output_type": "stream",
     "text": [
      "Heights: [74 74 72 ... 75 75 73]\n",
      "Shape Heights: (1015,)\n"
     ]
    }
   ],
   "source": [
    "print('Heights:',heights)\n",
    "print('Shape Heights:',np.shape(heights))"
   ]
  },
  {
   "cell_type": "code",
   "execution_count": 5,
   "metadata": {},
   "outputs": [
    {
     "name": "stdout",
     "output_type": "stream",
     "text": [
      "Weights: [180 215 210 ... 205 190 195]\n",
      "Shape Weights: (1015,)\n"
     ]
    }
   ],
   "source": [
    "print('Weights:',weights)\n",
    "print('Shape Weights:',np.shape(weights))"
   ]
  },
  {
   "cell_type": "code",
   "execution_count": 6,
   "metadata": {},
   "outputs": [],
   "source": [
    "# 3. Cho hệ số quy đổi từ inch sang m là 0.0254 => Hãy tạo ra numpy array np_height_m dựa trên\n",
    "# công thức: np_height * hệ số quy đổi này => In kết quả\n",
    "np_height_m = heights * 0.0254"
   ]
  },
  {
   "cell_type": "code",
   "execution_count": 7,
   "metadata": {},
   "outputs": [
    {
     "data": {
      "text/plain": [
       "array([1.8796, 1.8796, 1.8288, ..., 1.905 , 1.905 , 1.8542])"
      ]
     },
     "execution_count": 7,
     "metadata": {},
     "output_type": "execute_result"
    }
   ],
   "source": [
    "np_height_m"
   ]
  },
  {
   "cell_type": "code",
   "execution_count": 8,
   "metadata": {},
   "outputs": [
    {
     "data": {
      "text/plain": [
       "array([81.64656, 97.52228, 95.25432, ..., 92.98636, 86.18248, 88.45044])"
      ]
     },
     "execution_count": 8,
     "metadata": {},
     "output_type": "execute_result"
    }
   ],
   "source": [
    "# 4. Cho hệ số quy đổi từ pound sang kg là 0.453592 => Hãy tạo ra numpy array np_weight_kg\n",
    "# dựa trên công thức: np_weight * hệ số quy đổi này => In kết quả\n",
    "\n",
    "np_weight_kg = weights * 0.453592\n",
    "np_weight_kg"
   ]
  },
  {
   "cell_type": "code",
   "execution_count": 9,
   "metadata": {},
   "outputs": [
    {
     "data": {
      "text/plain": [
       "array([23.11037639, 27.60406069, 28.48080465, ..., 25.62295933,\n",
       "       23.74810865, 25.72686361])"
      ]
     },
     "execution_count": 9,
     "metadata": {},
     "output_type": "execute_result"
    }
   ],
   "source": [
    "# 5. Tính và in BMI của np_height_m và np_weight_kg theo công thức BIM = Cân nặng / (Chiều\n",
    "# cao * Chiều cao)\n",
    "BIM = np_weight_kg / (np_height_m ** 2)\n",
    "BIM"
   ]
  },
  {
   "cell_type": "code",
   "execution_count": 10,
   "metadata": {},
   "outputs": [
    {
     "name": "stdout",
     "output_type": "stream",
     "text": [
      "200\n"
     ]
    }
   ],
   "source": [
    "#6. In weight ở vị trí index 50\n",
    "print(weights[50])"
   ]
  },
  {
   "cell_type": "code",
   "execution_count": 11,
   "metadata": {},
   "outputs": [
    {
     "data": {
      "text/plain": [
       "array([29.02517946, 29.52992539, 24.41211827, 29.02517946, 26.58105883,\n",
       "       24.41211827, 22.42854777, 26.24790956, 26.87285979, 26.38652678,\n",
       "       28.88767328])"
      ]
     },
     "execution_count": 11,
     "metadata": {},
     "output_type": "execute_result"
    }
   ],
   "source": [
    "#7. In ra array con lấy từ index 100 đến index 110 (lấy cả index 110)\n",
    "array_con = BIM[100:111]\n",
    "array_con"
   ]
  },
  {
   "cell_type": "code",
   "execution_count": null,
   "metadata": {},
   "outputs": [],
   "source": []
  }
 ],
 "metadata": {
  "kernelspec": {
   "display_name": "Python 3",
   "language": "python",
   "name": "python3"
  },
  "language_info": {
   "codemirror_mode": {
    "name": "ipython",
    "version": 3
   },
   "file_extension": ".py",
   "mimetype": "text/x-python",
   "name": "python",
   "nbconvert_exporter": "python",
   "pygments_lexer": "ipython3",
   "version": "3.6.8"
  }
 },
 "nbformat": 4,
 "nbformat_minor": 2
}
