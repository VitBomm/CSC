{
 "cells": [
  {
   "cell_type": "markdown",
   "metadata": {},
   "source": [
    "1. Tạo array 3x3 với tất cả các giá trị đều là True. In array\n",
    "2. Cho array 1D có 9 phần tử 0-8 => chuyển thành array 2D (3x3) => In array. Chuyển cột 1 sang\n",
    "cột 3 và ngược lại. => In array\n",
    "3. Sử dụng array 2D của câu trên, chuyển dòng 1 sang dòng 2 và ngược lại => In array\n",
    "4. Sử dụng array 2D của câu trên, Đảo ngược các dòng của array 2D => In array\n",
    "5. Sử dụng array 2D của câu trên, Đảo ngược các cột của array 2D = > In array\n",
    "6. Cho h = np.array([[1, 2, 3], [np.NaN, 5, 6], [7, np.NaN, 9], [4, 5, 6]]), kiểm tra xem trong array có\n",
    "giá trị rỗng nào không?\n",
    "7. Sử dụng array 2D của câu trên, thay thế giá trị null bằng 0"
   ]
  },
  {
   "cell_type": "code",
   "execution_count": 49,
   "metadata": {},
   "outputs": [
    {
     "data": {
      "text/plain": [
       "array([[ True,  True,  True],\n",
       "       [ True,  True,  True],\n",
       "       [ True,  True,  True]])"
      ]
     },
     "execution_count": 49,
     "metadata": {},
     "output_type": "execute_result"
    }
   ],
   "source": [
    "import numpy as np\n",
    "array_3x3 = np.full((3,3),True)\n",
    "array_3x3"
   ]
  },
  {
   "cell_type": "code",
   "execution_count": 50,
   "metadata": {},
   "outputs": [
    {
     "name": "stdout",
     "output_type": "stream",
     "text": [
      "Array 1D:  [0 1 2 3 4 5 6 7 8]\n",
      "Array 2D:\n",
      " [[0 1 2]\n",
      " [3 4 5]\n",
      " [6 7 8]]\n",
      "Array 2D after swap column 1,3: \n",
      " [[2 1 0]\n",
      " [5 4 3]\n",
      " [8 7 6]]\n"
     ]
    }
   ],
   "source": [
    "# 2. Cho array 1D có 9 phần tử 0-8 => chuyển thành array 2D (3x3) => In array. Chuyển cột 1 sang\n",
    "# cột 3 và ngược lại. => In array\n",
    "array_1D = np.arange(0,9)\n",
    "print('Array 1D: ',array_1D)\n",
    "array_2D = np.reshape(array_1D,(3,3))\n",
    "print('Array 2D:\\n',array_2D)\n",
    "# Chuyển cột một sang cột 3 và ngược lại\n",
    "array_2D[:,0], array_2D[:,2] = array_2D[:,2], array_2D[:,0].copy()\n",
    "print('Array 2D after swap column 1,3: \\n',array_2D)"
   ]
  },
  {
   "cell_type": "code",
   "execution_count": 51,
   "metadata": {},
   "outputs": [
    {
     "name": "stdout",
     "output_type": "stream",
     "text": [
      "Array 2D after swap row 1 ,2:\n",
      " [[5 4 3]\n",
      " [2 1 0]\n",
      " [8 7 6]]\n"
     ]
    }
   ],
   "source": [
    "# 3. Sử dụng array 2D của câu trên, chuyển dòng 1 sang dòng 2 và ngược lại => In array\n",
    "array_2D[0,:], array_2D[1,:] = array_2D[1,:], array_2D[0,:].copy()\n",
    "print('Array 2D after swap row 1 ,2:\\n',array_2D)"
   ]
  },
  {
   "cell_type": "code",
   "execution_count": 52,
   "metadata": {},
   "outputs": [
    {
     "name": "stdout",
     "output_type": "stream",
     "text": [
      "Array 2D after reverse row \n",
      " [[8 7 6]\n",
      " [2 1 0]\n",
      " [5 4 3]]\n"
     ]
    }
   ],
   "source": [
    "#4. Sử dụng array 2D của câu trên, Đảo ngược các dòng của array 2D => In array\n",
    "# array_2D = np.flip(array_2D, axis=0)\n",
    "array_2D = array_2D[::-1]\n",
    "print('Array 2D after reverse row \\n', array_2D)"
   ]
  },
  {
   "cell_type": "code",
   "execution_count": 55,
   "metadata": {},
   "outputs": [
    {
     "data": {
      "text/plain": [
       "array([[6, 7, 8],\n",
       "       [0, 1, 2],\n",
       "       [3, 4, 5]])"
      ]
     },
     "execution_count": 55,
     "metadata": {},
     "output_type": "execute_result"
    }
   ],
   "source": [
    "# 5. Sử dụng array 2D của câu trên, Đảo ngược các cột của array 2D = > In array\n",
    "array_2D = array_2D[:,::-1]\n",
    "array_2D"
   ]
  },
  {
   "cell_type": "code",
   "execution_count": 66,
   "metadata": {},
   "outputs": [
    {
     "name": "stdout",
     "output_type": "stream",
     "text": [
      "Existed\n"
     ]
    }
   ],
   "source": [
    "# 6. Cho h = np.array([[1, 2, 3], [np.NaN, 5, 6], [7, np.NaN, 9], [4, 5, 6]]), kiểm tra xem trong array có\n",
    "# giá trị rỗng nào không?\n",
    "h = np.array([[1, 2, 3], [np.NaN, 5, 6], [7, np.NaN, 9], [4, 5, 6]])\n",
    "if np.isnan(np.min(h)):\n",
    "    print('Existed')\n"
   ]
  },
  {
   "cell_type": "code",
   "execution_count": 68,
   "metadata": {},
   "outputs": [
    {
     "name": "stdout",
     "output_type": "stream",
     "text": [
      "Array_7:\n",
      " [[1. 2. 3.]\n",
      " [0. 5. 6.]\n",
      " [7. 0. 9.]\n",
      " [4. 5. 6.]]\n"
     ]
    }
   ],
   "source": [
    "# 7. Sử dụng array 2D của câu trên, thay thế giá trị null bằng 0\n",
    "array_7 = np.where(np.isnan(h),0,h)\n",
    "print('Array_7:\\n',array_7)"
   ]
  },
  {
   "cell_type": "code",
   "execution_count": null,
   "metadata": {},
   "outputs": [],
   "source": []
  }
 ],
 "metadata": {
  "kernelspec": {
   "display_name": "Python 3",
   "language": "python",
   "name": "python3"
  },
  "language_info": {
   "codemirror_mode": {
    "name": "ipython",
    "version": 3
   },
   "file_extension": ".py",
   "mimetype": "text/x-python",
   "name": "python",
   "nbconvert_exporter": "python",
   "pygments_lexer": "ipython3",
   "version": "3.6.8"
  }
 },
 "nbformat": 4,
 "nbformat_minor": 2
}
