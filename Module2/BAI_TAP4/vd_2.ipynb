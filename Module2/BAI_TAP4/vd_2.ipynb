{
 "cells": [
  {
   "cell_type": "code",
   "execution_count": 1,
   "metadata": {},
   "outputs": [],
   "source": [
    "import numpy as np\n",
    "import pandas as pd"
   ]
  },
  {
   "cell_type": "code",
   "execution_count": 2,
   "metadata": {},
   "outputs": [],
   "source": [
    "data = pd.read_csv('sinh_vien_cn.csv')"
   ]
  },
  {
   "cell_type": "code",
   "execution_count": 3,
   "metadata": {},
   "outputs": [
    {
     "data": {
      "text/html": [
       "<div>\n",
       "<style scoped>\n",
       "    .dataframe tbody tr th:only-of-type {\n",
       "        vertical-align: middle;\n",
       "    }\n",
       "\n",
       "    .dataframe tbody tr th {\n",
       "        vertical-align: top;\n",
       "    }\n",
       "\n",
       "    .dataframe thead th {\n",
       "        text-align: right;\n",
       "    }\n",
       "</style>\n",
       "<table border=\"1\" class=\"dataframe\">\n",
       "  <thead>\n",
       "    <tr style=\"text-align: right;\">\n",
       "      <th></th>\n",
       "      <th>masv</th>\n",
       "      <th>ho</th>\n",
       "      <th>ten</th>\n",
       "      <th>gioitinh</th>\n",
       "      <th>ngaysinh</th>\n",
       "      <th>email</th>\n",
       "      <th>didong</th>\n",
       "      <th>cmnd</th>\n",
       "      <th>hocbong</th>\n",
       "      <th>makh</th>\n",
       "    </tr>\n",
       "  </thead>\n",
       "  <tbody>\n",
       "    <tr>\n",
       "      <td>0</td>\n",
       "      <td>C0001</td>\n",
       "      <td>Khương Thảo</td>\n",
       "      <td>Loan</td>\n",
       "      <td>False</td>\n",
       "      <td>1999-01-04 00:00:00</td>\n",
       "      <td>ktloan@gmail.com</td>\n",
       "      <td>987314518</td>\n",
       "      <td>586900775484</td>\n",
       "      <td>2000000</td>\n",
       "      <td>CN</td>\n",
       "    </tr>\n",
       "    <tr>\n",
       "      <td>1</td>\n",
       "      <td>C0002</td>\n",
       "      <td>Đặng Bạch</td>\n",
       "      <td>Ngọc</td>\n",
       "      <td>True</td>\n",
       "      <td>1999-11-11 00:00:00</td>\n",
       "      <td>dbngoc@gmail.com</td>\n",
       "      <td>987587327</td>\n",
       "      <td>274387352269</td>\n",
       "      <td>0</td>\n",
       "      <td>CN</td>\n",
       "    </tr>\n",
       "    <tr>\n",
       "      <td>2</td>\n",
       "      <td>C0003</td>\n",
       "      <td>Phạm Văn Minh</td>\n",
       "      <td>Thiện</td>\n",
       "      <td>True</td>\n",
       "      <td>1999-11-23 00:00:00</td>\n",
       "      <td>pvmthien@gmail.com</td>\n",
       "      <td>987858734</td>\n",
       "      <td>835772714136</td>\n",
       "      <td>0</td>\n",
       "      <td>CN</td>\n",
       "    </tr>\n",
       "    <tr>\n",
       "      <td>3</td>\n",
       "      <td>C0004</td>\n",
       "      <td>Đinh Thị Thanh</td>\n",
       "      <td>Dung</td>\n",
       "      <td>False</td>\n",
       "      <td>1999-01-19 00:00:00</td>\n",
       "      <td>dttdung@gmail.com</td>\n",
       "      <td>987508413</td>\n",
       "      <td>373064334392</td>\n",
       "      <td>1000000</td>\n",
       "      <td>CN</td>\n",
       "    </tr>\n",
       "    <tr>\n",
       "      <td>4</td>\n",
       "      <td>C0005</td>\n",
       "      <td>Trần Mạnh</td>\n",
       "      <td>Thiện</td>\n",
       "      <td>True</td>\n",
       "      <td>1999-08-19 00:00:00</td>\n",
       "      <td>tmthien@gmail.com</td>\n",
       "      <td>987579776</td>\n",
       "      <td>233384596844</td>\n",
       "      <td>1000000</td>\n",
       "      <td>CN</td>\n",
       "    </tr>\n",
       "  </tbody>\n",
       "</table>\n",
       "</div>"
      ],
      "text/plain": [
       "    masv              ho    ten  gioitinh             ngaysinh  \\\n",
       "0  C0001     Khương Thảo   Loan     False  1999-01-04 00:00:00   \n",
       "1  C0002       Đặng Bạch   Ngọc      True  1999-11-11 00:00:00   \n",
       "2  C0003   Phạm Văn Minh  Thiện      True  1999-11-23 00:00:00   \n",
       "3  C0004  Đinh Thị Thanh   Dung     False  1999-01-19 00:00:00   \n",
       "4  C0005       Trần Mạnh  Thiện      True  1999-08-19 00:00:00   \n",
       "\n",
       "                email     didong          cmnd  hocbong makh  \n",
       "0    ktloan@gmail.com  987314518  586900775484  2000000   CN  \n",
       "1    dbngoc@gmail.com  987587327  274387352269        0   CN  \n",
       "2  pvmthien@gmail.com  987858734  835772714136        0   CN  \n",
       "3   dttdung@gmail.com  987508413  373064334392  1000000   CN  \n",
       "4   tmthien@gmail.com  987579776  233384596844  1000000   CN  "
      ]
     },
     "execution_count": 3,
     "metadata": {},
     "output_type": "execute_result"
    }
   ],
   "source": [
    "data.head()"
   ]
  },
  {
   "cell_type": "code",
   "execution_count": 4,
   "metadata": {},
   "outputs": [
    {
     "data": {
      "text/plain": [
       "(500, 10)"
      ]
     },
     "execution_count": 4,
     "metadata": {},
     "output_type": "execute_result"
    }
   ],
   "source": [
    "data.shape"
   ]
  },
  {
   "cell_type": "code",
   "execution_count": null,
   "metadata": {},
   "outputs": [],
   "source": []
  }
 ],
 "metadata": {
  "kernelspec": {
   "display_name": "Python 3",
   "language": "python",
   "name": "python3"
  },
  "language_info": {
   "codemirror_mode": {
    "name": "ipython",
    "version": 3
   },
   "file_extension": ".py",
   "mimetype": "text/x-python",
   "name": "python",
   "nbconvert_exporter": "python",
   "pygments_lexer": "ipython3",
   "version": "3.6.8"
  }
 },
 "nbformat": 4,
 "nbformat_minor": 2
}
