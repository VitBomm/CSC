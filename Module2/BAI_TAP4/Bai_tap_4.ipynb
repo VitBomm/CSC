{
 "cells": [
  {
   "cell_type": "markdown",
   "metadata": {},
   "source": [
    "Chapter 4 - exercise 1: Hãy thực hiện những yêu\n",
    "cầu liên quan tới series như sau:\n",
    "1. Tạo nd_array_1 có 5 phần tử số nguyên,nd_array_2 có 5 phần tử số nguyên. Chuyển 2 array\n",
    "này thành 2 series là series1 và series2. Tính cộng, trừ, nhân, chia 2 series này. In các kết quả\n",
    "2. So sánh xem các phần tử của series1 có >, <. = các phần tử của series2 không?\n",
    "3. Cho 2 series, tạo series3 chỉ chứa các phần tử có trong series1 mà không có trong series2. in\n",
    "series3\n",
    "4. Sử dụng lại 2 series là series1 và series2, tạo series6 chứa các phần tử chỉ có trong series1 và\n",
    "chỉ có trong series2\n",
    "5. Tạo 1 series có 35 phần tử ngẫu nhiên có giá trị trong khoảng 1 đến 9. In shape, head và tail\n",
    "của series này. In series theo dạng array. Thống kê thông tin chung của series. Cho biết tổng\n",
    "của series. Cho biết phần tử có tần suất xuất hiện nhiều nhất\n",
    "6. Sử dụng series của câu trên. In ra những dòng trong series mà giá trị chia hết cho 2 và cho 3\n",
    "7. Từ series của câu 5 phía trên, in ra các giá trị unique (array)\n",
    "8. Từ series của câu 5 phía trên, in các phần tử ở vị trí 0, 5, 10, 15\n",
    "9. Từ series của câu 5 phía trên hãy tạo một series mới với mỗi phần tử có giá trị = lập phương\n",
    "của phần tử trong series. In head của serires mới\n",
    "10. Cho list sau: lst = [\"abc\", \"defg\", \"htlmj\", \"dfg\", \"ljsac\"]. Tạo series từ lst này.Tạo series mới với\n",
    "mỗi phần tử có giá trị là chiều dài của phần tử trong series trên\n",
    "11. Cho ser = pd.Series(np.array([1, 2, 4, 5, 8, 7, 6, 9])). In ser. In ra những dòng trong series mà\n",
    "giá trị là số nguyên tố\n",
    "12. Cho mẫu email như sau pattern ='[A-Za-z0-9._%+-]+@[A-Za-z0-9.-]+\\.[A-Za-z]{2,4}'. Tạo một\n",
    "series mà mỗi phần tử là một chuỗi. In ra những dòng trong series thỏa điều kiện chuỗi là\n",
    "email"
   ]
  },
  {
   "cell_type": "markdown",
   "metadata": {},
   "source": [
    "Solve"
   ]
  },
  {
   "cell_type": "markdown",
   "metadata": {},
   "source": [
    "1. Tạo nd_array_1 có 5 phần tử số nguyên,nd_array_2 có 5 phần tử số nguyên. Chuyển 2 array này thành 2 series là series1 và series2. Tính cộng, trừ, nhân, chia 2 series này. In các kết quả"
   ]
  },
  {
   "cell_type": "code",
   "execution_count": 13,
   "metadata": {},
   "outputs": [],
   "source": [
    "import pandas as pd\n",
    "import numpy as np"
   ]
  },
  {
   "cell_type": "code",
   "execution_count": 5,
   "metadata": {},
   "outputs": [
    {
     "name": "stdout",
     "output_type": "stream",
     "text": [
      "Series1\n",
      "0    0\n",
      "1    1\n",
      "2    2\n",
      "3    3\n",
      "4    4\n",
      "dtype: int64\n",
      "Series2\n",
      "0    3\n",
      "1    4\n",
      "2    5\n",
      "3    6\n",
      "4    7\n",
      "dtype: int64\n"
     ]
    }
   ],
   "source": [
    "nd_array_1 = range(0,5)\n",
    "nd_array_2 = range(3,8)\n",
    "series1 = pd.Series(nd_array_1)\n",
    "series2 = pd.Series(nd_array_2)\n",
    "print('Series1:\\n%s'%(str(series1)))\n",
    "print('Series2:\\n%s'%(str(series2)))"
   ]
  },
  {
   "cell_type": "code",
   "execution_count": 6,
   "metadata": {},
   "outputs": [
    {
     "name": "stdout",
     "output_type": "stream",
     "text": [
      "0     3\n",
      "1     5\n",
      "2     7\n",
      "3     9\n",
      "4    11\n",
      "dtype: int64\n"
     ]
    }
   ],
   "source": [
    "print(series1 + series2)"
   ]
  },
  {
   "cell_type": "code",
   "execution_count": 7,
   "metadata": {},
   "outputs": [
    {
     "name": "stdout",
     "output_type": "stream",
     "text": [
      "0   -3\n",
      "1   -3\n",
      "2   -3\n",
      "3   -3\n",
      "4   -3\n",
      "dtype: int64\n"
     ]
    }
   ],
   "source": [
    "print(series1 - series2)"
   ]
  },
  {
   "cell_type": "code",
   "execution_count": 8,
   "metadata": {},
   "outputs": [
    {
     "name": "stdout",
     "output_type": "stream",
     "text": [
      "0    0.000000\n",
      "1    0.250000\n",
      "2    0.400000\n",
      "3    0.500000\n",
      "4    0.571429\n",
      "dtype: float64\n"
     ]
    }
   ],
   "source": [
    "print(series1/series2)"
   ]
  },
  {
   "cell_type": "markdown",
   "metadata": {},
   "source": [
    "So sánh xem các phần tử của series1 có >, <. = các phần tử của series2 không?"
   ]
  },
  {
   "cell_type": "code",
   "execution_count": 10,
   "metadata": {},
   "outputs": [
    {
     "name": "stdout",
     "output_type": "stream",
     "text": [
      "0    False\n",
      "1    False\n",
      "2    False\n",
      "3    False\n",
      "4    False\n",
      "dtype: bool\n"
     ]
    }
   ],
   "source": [
    "print(series1 > series2)"
   ]
  },
  {
   "cell_type": "code",
   "execution_count": 11,
   "metadata": {},
   "outputs": [
    {
     "name": "stdout",
     "output_type": "stream",
     "text": [
      "0    True\n",
      "1    True\n",
      "2    True\n",
      "3    True\n",
      "4    True\n",
      "dtype: bool\n"
     ]
    }
   ],
   "source": [
    "print(series1 < series2)"
   ]
  },
  {
   "cell_type": "code",
   "execution_count": 12,
   "metadata": {},
   "outputs": [
    {
     "name": "stdout",
     "output_type": "stream",
     "text": [
      "0    False\n",
      "1    False\n",
      "2    False\n",
      "3    False\n",
      "4    False\n",
      "dtype: bool\n"
     ]
    }
   ],
   "source": [
    "print(series1 == series2)"
   ]
  },
  {
   "cell_type": "markdown",
   "metadata": {},
   "source": [
    "3.Cho 2 series, tạo series3 chỉ chứa các phần tử có trong series1 mà không có trong series2. in series3"
   ]
  },
  {
   "cell_type": "code",
   "execution_count": 20,
   "metadata": {},
   "outputs": [],
   "source": [
    "ser3 = series1[~series1.isin(series2)]"
   ]
  },
  {
   "cell_type": "code",
   "execution_count": 21,
   "metadata": {},
   "outputs": [
    {
     "data": {
      "text/plain": [
       "0    0\n",
       "1    1\n",
       "2    2\n",
       "dtype: int64"
      ]
     },
     "execution_count": 21,
     "metadata": {},
     "output_type": "execute_result"
    }
   ],
   "source": [
    "ser3"
   ]
  },
  {
   "cell_type": "markdown",
   "metadata": {},
   "source": [
    "4. Sử dụng lại 2 series là series1 và series2, tạo series6 chứa các phần tử chỉ có trong series1 và\n",
    "chỉ có trong series2"
   ]
  },
  {
   "cell_type": "code",
   "execution_count": 28,
   "metadata": {},
   "outputs": [
    {
     "name": "stdout",
     "output_type": "stream",
     "text": [
      "Ser5 0    0\n",
      "1    1\n",
      "2    2\n",
      "dtype: int64\n",
      "Ser4 2    5\n",
      "3    6\n",
      "4    7\n",
      "dtype: int64\n",
      "2    5\n",
      "3    6\n",
      "4    7\n",
      "0    0\n",
      "1    1\n",
      "2    2\n",
      "dtype: int64\n"
     ]
    }
   ],
   "source": [
    "ser4 = series2[~(series2).isin(series1)]\n",
    "ser5 = series1[~(series1.isin(series2))]\n",
    "print('Ser5',ser5)\n",
    "print('Ser4',ser4)\n",
    "ser6 = ser4.append(ser5)\n",
    "print(ser6)\n",
    "# print(ser4[ & ~(series2.isin(series1))])"
   ]
  },
  {
   "cell_type": "markdown",
   "metadata": {},
   "source": [
    "5. Tạo 1 series có 35 phần tử ngẫu nhiên có giá trị trong khoảng 1 đến 9. In shape, head và tail\n",
    "của series này. In series theo dạng array. Thống kê thông tin chung của series. Cho biết tổng\n",
    "của series. Cho biết phần tử có tần suất xuất hiện nhiều nhất"
   ]
  },
  {
   "cell_type": "code",
   "execution_count": 61,
   "metadata": {},
   "outputs": [],
   "source": [
    "random_number = pd.Series(np.random.randint(1,10, size=35))\n"
   ]
  },
  {
   "cell_type": "code",
   "execution_count": 62,
   "metadata": {},
   "outputs": [
    {
     "name": "stdout",
     "output_type": "stream",
     "text": [
      "Shape: (35,)\n",
      "Head: 0    8\n",
      "1    8\n",
      "2    2\n",
      "3    6\n",
      "4    8\n",
      "dtype: int32\n",
      "Tail: 30    4\n",
      "31    9\n",
      "32    2\n",
      "33    9\n",
      "34    4\n",
      "dtype: int32\n",
      "Series with array: [8, 8, 2, 6, 8, 9, 4, 7, 9, 5, 5, 6, 8, 9, 2, 8, 2, 4, 6, 5, 7, 5, 8, 9, 8, 5, 6, 6, 4, 4, 4, 9, 2, 9, 4]\n",
      "General Information: count    35.000000\n",
      "mean      6.028571\n",
      "std       2.281456\n",
      "min       2.000000\n",
      "25%       4.000000\n",
      "50%       6.000000\n",
      "75%       8.000000\n",
      "max       9.000000\n",
      "dtype: float64\n",
      "Frequency 8    7\n",
      "9    6\n",
      "4    6\n",
      "6    5\n",
      "5    5\n",
      "2    4\n",
      "7    2\n",
      "dtype: int64\n"
     ]
    }
   ],
   "source": [
    "print('Shape:',random_number.shape)\n",
    "print('Head:',random_number.head())\n",
    "print('Tail:',random_number.tail())\n",
    "print('Series with array:',random_number.tolist())\n",
    "print('General Information:',random_number.describe())\n",
    "print('Frequency',random_number.value_counts())"
   ]
  },
  {
   "cell_type": "raw",
   "metadata": {},
   "source": [
    "6. Sử dụng series của câu trên. In ra những dòng trong series mà giá trị chia hết cho 2 và cho 3\n"
   ]
  },
  {
   "cell_type": "code",
   "execution_count": 63,
   "metadata": {},
   "outputs": [],
   "source": [
    "random_number_6 = random_number[(random_number % 2== 0) & (random_number % 3== 0)]"
   ]
  },
  {
   "cell_type": "code",
   "execution_count": 64,
   "metadata": {},
   "outputs": [
    {
     "data": {
      "text/plain": [
       "3     6\n",
       "11    6\n",
       "18    6\n",
       "26    6\n",
       "27    6\n",
       "dtype: int32"
      ]
     },
     "execution_count": 64,
     "metadata": {},
     "output_type": "execute_result"
    }
   ],
   "source": [
    "random_number_6"
   ]
  },
  {
   "cell_type": "markdown",
   "metadata": {},
   "source": [
    "7. Từ series của câu 5 phía trên, in ra các giá trị unique (array)\n"
   ]
  },
  {
   "cell_type": "code",
   "execution_count": 65,
   "metadata": {},
   "outputs": [
    {
     "data": {
      "text/plain": [
       "array([8, 2, 6, 9, 4, 7, 5], dtype=int64)"
      ]
     },
     "execution_count": 65,
     "metadata": {},
     "output_type": "execute_result"
    }
   ],
   "source": [
    "random_number_7 = random_number.unique()\n",
    "random_number_7"
   ]
  },
  {
   "cell_type": "markdown",
   "metadata": {},
   "source": [
    "8. Từ series của câu 5 phía trên, in các phần tử ở vị trí 0, 5, 10, 15\n"
   ]
  },
  {
   "cell_type": "code",
   "execution_count": 69,
   "metadata": {},
   "outputs": [
    {
     "data": {
      "text/plain": [
       "0     8\n",
       "5     9\n",
       "10    5\n",
       "15    8\n",
       "dtype: int32"
      ]
     },
     "execution_count": 69,
     "metadata": {},
     "output_type": "execute_result"
    }
   ],
   "source": [
    "random_number_8 = random_number[[0,5,10,15]]\n",
    "random_number_8"
   ]
  },
  {
   "cell_type": "code",
   "execution_count": null,
   "metadata": {},
   "outputs": [],
   "source": []
  }
 ],
 "metadata": {
  "kernelspec": {
   "display_name": "Python 3",
   "language": "python",
   "name": "python3"
  },
  "language_info": {
   "codemirror_mode": {
    "name": "ipython",
    "version": 3
   },
   "file_extension": ".py",
   "mimetype": "text/x-python",
   "name": "python",
   "nbconvert_exporter": "python",
   "pygments_lexer": "ipython3",
   "version": "3.6.8"
  }
 },
 "nbformat": 4,
 "nbformat_minor": 2
}
